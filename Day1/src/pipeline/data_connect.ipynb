{
 "cells": [
  {
   "cell_type": "code",
   "execution_count": 3,
   "source": [
    "import psycopg2;"
   ],
   "outputs": [],
   "metadata": {}
  },
  {
   "cell_type": "code",
   "execution_count": 4,
   "source": [
    "try:\r\n",
    "    connection = psycopg2.connect(\r\n",
    "      host = \"localhost\",\r\n",
    "      database = \"car_dealership\",\r\n",
    "      user =\"postgres\",\r\n",
    "      password =\"password\",\r\n",
    "      port =5432\r\n",
    ")\r\n",
    "    cursor = connection.cursor()\r\n",
    "    select_car='''\r\n",
    "    SELECT * FROM car;\r\n",
    "    '''\r\n",
    "    cursor.execute(select_car)\r\n",
    "    print(cursor.fetchall())\r\n",
    "except Exception as e:\r\n",
    "    print('AN error has occured', e)\r\n",
    "finally:\r\n",
    "    cursor.close()\r\n",
    "    connection.close()"
   ],
   "outputs": [
    {
     "output_type": "stream",
     "name": "stdout",
     "text": [
      "[(1, '1234567890wed', 'Hyundai', 'i10', 'maroon', datetime.date(2020, 12, 31), True), (2, '1234567890ded', 'Hyundai', 'magna', 'maroon', datetime.date(2020, 12, 31), True), (3, '1234567f90wed', 'Hyundai', 'i20', 'maroon', datetime.date(2020, 12, 31), True)]\n"
     ]
    }
   ],
   "metadata": {}
  },
  {
   "cell_type": "code",
   "execution_count": null,
   "source": [],
   "outputs": [],
   "metadata": {}
  }
 ],
 "metadata": {
  "orig_nbformat": 4,
  "language_info": {
   "name": "python",
   "version": "3.9.7",
   "mimetype": "text/x-python",
   "codemirror_mode": {
    "name": "ipython",
    "version": 3
   },
   "pygments_lexer": "ipython3",
   "nbconvert_exporter": "python",
   "file_extension": ".py"
  },
  "kernelspec": {
   "name": "python3",
   "display_name": "Python 3.9.7 64-bit"
  },
  "interpreter": {
   "hash": "8e108d48488a9b55a6e1911e219ce6ee54c080702e1fc28ce8cf5ba8428c1b19"
  }
 },
 "nbformat": 4,
 "nbformat_minor": 2
}